{
 "cells": [
  {
   "cell_type": "markdown",
   "metadata": {},
   "source": [
    "# ImageNet-10 preparation"
   ]
  },
  {
   "cell_type": "code",
   "execution_count": null,
   "metadata": {},
   "outputs": [],
   "source": [
    "import data_split\n",
    "import data_converter\n",
    "import vgg19bn"
   ]
  },
  {
   "cell_type": "code",
   "execution_count": null,
   "metadata": {},
   "outputs": [],
   "source": [
    "ds = data_split.DataSplit()\n",
    "ds.save_split('data')"
   ]
  },
  {
   "cell_type": "code",
   "execution_count": null,
   "metadata": {},
   "outputs": [],
   "source": [
    "%%time\n",
    "dc = data_converter.DataConverter(vgg19bn.VGG19bn())\n",
    "dc.convert_split()"
   ]
  },
  {
   "cell_type": "markdown",
   "metadata": {},
   "source": [
    "# Mapper"
   ]
  },
  {
   "cell_type": "code",
   "execution_count": 10,
   "metadata": {},
   "outputs": [],
   "source": [
    "import numpy as np\n",
    "import mapper\n",
    "import my_umap\n",
    "from sklearn.cluster import DBSCAN\n",
    "from gtda.mapper import FirstSimpleGap"
   ]
  },
  {
   "cell_type": "code",
   "execution_count": 11,
   "metadata": {},
   "outputs": [
    {
     "data": {
      "text/plain": [
       "((10000, 5096), (10000,))"
      ]
     },
     "execution_count": 11,
     "metadata": {},
     "output_type": "execute_result"
    }
   ],
   "source": [
    "loaded = np.load('data/in10_split_converted.npz', allow_pickle=True)\n",
    "x_train = loaded['x_train']\n",
    "y_train = loaded['y_train']\n",
    "x_train.shape, y_train.shape"
   ]
  },
  {
   "cell_type": "code",
   "execution_count": 19,
   "metadata": {},
   "outputs": [],
   "source": [
    "experiment_name = 'comp12_int10_umap12rs69_dbscan50_uniform'"
   ]
  },
  {
   "cell_type": "code",
   "execution_count": 13,
   "metadata": {},
   "outputs": [
    {
     "name": "stderr",
     "output_type": "stream",
     "text": [
      "[Parallel(n_jobs=4)]: Using backend ThreadingBackend with 4 concurrent workers.\n"
     ]
    },
    {
     "name": "stdout",
     "output_type": "stream",
     "text": [
      "[Pipeline] ............ (step 1 of 3) Processing scaler, total=   0.0s\n",
      "[Pipeline] ............ (step 1 of 3) Processing scaler, total=   0.0s\n",
      "[Pipeline] ............ (step 1 of 3) Processing scaler, total=   0.0s\n",
      "[Pipeline] ............ (step 1 of 3) Processing scaler, total=   0.0s\n",
      "[Pipeline] ......... (step 1 of 2) Processing projector, total=   0.4s\n",
      "[Pipeline] .............. (step 2 of 2) Processing proj, total=   0.0s\n",
      "[Pipeline] ....... (step 2 of 3) Processing filter_func, total=   0.4s\n",
      "[Pipeline] ......... (step 1 of 2) Processing projector, total=   0.4s\n",
      "[Pipeline] ......... (step 1 of 2) Processing projector, total=   0.4s\n",
      "[Pipeline] ......... (step 1 of 2) Processing projector, total=   0.4s\n",
      "[Pipeline] .............. (step 2 of 2) Processing proj, total=   0.0s\n",
      "[Pipeline] .............. (step 2 of 2) Processing proj, total=   0.0s\n",
      "[Pipeline] ....... (step 2 of 3) Processing filter_func, total=   0.4s\n",
      "[Pipeline] ....... (step 2 of 3) Processing filter_func, total=   0.4s\n",
      "[Pipeline] ............. (step 3 of 3) Processing cover, total=   0.1s\n",
      "[Pipeline] .... (step 1 of 3) Processing pullback_cover, total=   0.6s\n",
      "[Pipeline] .............. (step 2 of 2) Processing proj, total=   0.0s\n",
      "[Pipeline] ....... (step 2 of 3) Processing filter_func, total=   0.5s\n",
      "[Pipeline] ............. (step 3 of 3) Processing cover, total=   0.1s\n",
      "[Pipeline] .... (step 1 of 3) Processing pullback_cover, total=   0.6s\n",
      "[Pipeline] ............. (step 3 of 3) Processing cover, total=   0.1s\n",
      "[Pipeline] .... (step 1 of 3) Processing pullback_cover, total=   0.7s\n",
      "[Pipeline] ............. (step 3 of 3) Processing cover, total=   0.1s\n",
      "[Pipeline] .... (step 1 of 3) Processing pullback_cover, total=   0.7s\n",
      "[Pipeline] ........ (step 2 of 3) Processing clustering, total=  13.3s\n",
      "[Pipeline] ............. (step 3 of 3) Processing nerve, total=   0.1s\n",
      "[Pipeline] ........ (step 2 of 3) Processing clustering, total=  13.4s\n",
      "[Pipeline] ............. (step 3 of 3) Processing nerve, total=   0.0s\n",
      "[Pipeline] ............ (step 1 of 3) Processing scaler, total=   0.0s\n",
      "[Pipeline] ........ (step 2 of 3) Processing clustering, total=  13.5s\n",
      "[Pipeline] ............ (step 1 of 3) Processing scaler, total=   0.0s\n",
      "[Pipeline] ............. (step 3 of 3) Processing nerve, total=   0.1s\n",
      "[Pipeline] ........ (step 2 of 3) Processing clustering, total=  13.6s\n",
      "[Pipeline] ............. (step 3 of 3) Processing nerve, total=   0.0s\n",
      "[Pipeline] ............ (step 1 of 3) Processing scaler, total=   0.0s\n",
      "[Pipeline] ............ (step 1 of 3) Processing scaler, total=   0.0s\n",
      "[Pipeline] ......... (step 1 of 2) Processing projector, total=   0.5s\n",
      "[Pipeline] .............. (step 2 of 2) Processing proj, total=   0.0s\n",
      "[Pipeline] ....... (step 2 of 3) Processing filter_func, total=   0.5s\n",
      "[Pipeline] ............. (step 3 of 3) Processing cover, total=   0.1s[Pipeline] ......... (step 1 of 2) Processing projector, total=   0.4s\n",
      "\n",
      "[Pipeline] .... (step 1 of 3) Processing pullback_cover, total=   0.7s\n",
      "[Pipeline] .............. (step 2 of 2) Processing proj, total=   0.0s\n",
      "[Pipeline] ....... (step 2 of 3) Processing filter_func, total=   0.4s\n",
      "[Pipeline] ............. (step 3 of 3) Processing cover, total=   0.1s\n",
      "[Pipeline] .... (step 1 of 3) Processing pullback_cover, total=   0.7s\n",
      "[Pipeline] ......... (step 1 of 2) Processing projector, total=   0.4s\n",
      "[Pipeline] .............. (step 2 of 2) Processing proj, total=   0.0s\n",
      "[Pipeline] ....... (step 2 of 3) Processing filter_func, total=   0.4s\n",
      "[Pipeline] ............. (step 3 of 3) Processing cover, total=   0.1s\n",
      "[Pipeline] .... (step 1 of 3) Processing pullback_cover, total=   0.6s\n",
      "[Pipeline] ......... (step 1 of 2) Processing projector, total=   0.4s\n",
      "[Pipeline] .............. (step 2 of 2) Processing proj, total=   0.0s\n",
      "[Pipeline] ....... (step 2 of 3) Processing filter_func, total=   0.4s\n",
      "[Pipeline] ............. (step 3 of 3) Processing cover, total=   0.1s\n",
      "[Pipeline] .... (step 1 of 3) Processing pullback_cover, total=   0.6s\n",
      "[Pipeline] ........ (step 2 of 3) Processing clustering, total=  13.5s\n",
      "[Pipeline] ............. (step 3 of 3) Processing nerve, total=   0.0s\n",
      "[Pipeline] ........ (step 2 of 3) Processing clustering, total=  13.5s\n",
      "[Pipeline] ............. (step 3 of 3) Processing nerve, total=   0.1s\n",
      "[Pipeline] ........ (step 2 of 3) Processing clustering, total=  13.7s\n",
      "[Pipeline] ........ (step 2 of 3) Processing clustering, total=  13.5s\n",
      "[Pipeline] ............ (step 1 of 3) Processing scaler, total=   0.0s\n",
      "[Pipeline] ............. (step 3 of 3) Processing nerve, total=   0.1s\n",
      "[Pipeline] ............. (step 3 of 3) Processing nerve, total=   0.0s\n",
      "[Pipeline] ............ (step 1 of 3) Processing scaler, total=   0.0s\n",
      "[Pipeline] ............ (step 1 of 3) Processing scaler, total=   0.0s\n",
      "[Pipeline] ............ (step 1 of 3) Processing scaler, total=   0.0s\n",
      "[Pipeline] ......... (step 1 of 2) Processing projector, total=   0.4s\n",
      "[Pipeline] .............. (step 2 of 2) Processing proj, total=   0.0s\n",
      "[Pipeline] ....... (step 2 of 3) Processing filter_func, total=   0.4s\n",
      "[Pipeline] ......... (step 1 of 2) Processing projector, total=   0.4s[Pipeline] ............. (step 3 of 3) Processing cover, total=   0.0s\n",
      "[Pipeline] .... (step 1 of 3) Processing pullback_cover, total=   0.6s\n",
      "\n",
      "[Pipeline] .............. (step 2 of 2) Processing proj, total=   0.0s\n",
      "[Pipeline] ....... (step 2 of 3) Processing filter_func, total=   0.4s\n",
      "[Pipeline] ......... (step 1 of 2) Processing projector, total=   0.4s\n",
      "[Pipeline] ............. (step 3 of 3) Processing cover, total=   0.1s\n",
      "[Pipeline] .... (step 1 of 3) Processing pullback_cover, total=   0.6s\n",
      "[Pipeline] ......... (step 1 of 2) Processing projector, total=   0.4s[Pipeline] .............. (step 2 of 2) Processing proj, total=   0.0s\n",
      "[Pipeline] ....... (step 2 of 3) Processing filter_func, total=   0.4s\n",
      "\n",
      "[Pipeline] .............. (step 2 of 2) Processing proj, total=   0.0s\n",
      "[Pipeline] ....... (step 2 of 3) Processing filter_func, total=   0.4s\n",
      "[Pipeline] ............. (step 3 of 3) Processing cover, total=   0.1s\n",
      "[Pipeline] .... (step 1 of 3) Processing pullback_cover, total=   0.6s\n",
      "[Pipeline] ............. (step 3 of 3) Processing cover, total=   0.1s\n",
      "[Pipeline] .... (step 1 of 3) Processing pullback_cover, total=   0.6s\n",
      "[Pipeline] ........ (step 2 of 3) Processing clustering, total=  13.2s\n",
      "[Pipeline] ............. (step 3 of 3) Processing nerve, total=   0.0s\n",
      "[Pipeline] ........ (step 2 of 3) Processing clustering, total=  13.3s\n",
      "[Pipeline] ........ (step 2 of 3) Processing clustering, total=  13.4s\n",
      "[Pipeline] ............. (step 3 of 3) Processing nerve, total=   0.0s\n",
      "[Pipeline] ............. (step 3 of 3) Processing nerve, total=   0.0s\n",
      "[Pipeline] ........ (step 2 of 3) Processing clustering, total=  13.4s\n",
      "[Pipeline] ............. (step 3 of 3) Processing nerve, total=   0.0s\n"
     ]
    },
    {
     "name": "stderr",
     "output_type": "stream",
     "text": [
      "[Parallel(n_jobs=4)]: Done  12 out of  12 | elapsed:   42.5s finished\n"
     ]
    },
    {
     "name": "stdout",
     "output_type": "stream",
     "text": [
      "CPU times: user 3min 11s, sys: 41.1 s, total: 3min 52s\n",
      "Wall time: 1min 34s\n"
     ]
    }
   ],
   "source": [
    "%%time\n",
    "\n",
    "clusterer = DBSCAN(eps=50, min_samples=1)\n",
    "projector = my_umap.MyUMAP(n_components=12, random_state=69)\n",
    "\n",
    "m = mapper.Mapper()\n",
    "m.fit(x_train, projector=projector, clusterer=clusterer, n_components=12, \n",
    "      n_intervals=10, experiment_name=experiment_name, kind='balanced')"
   ]
  },
  {
   "cell_type": "markdown",
   "metadata": {},
   "source": [
    "# Representations"
   ]
  },
  {
   "cell_type": "code",
   "execution_count": 14,
   "metadata": {},
   "outputs": [],
   "source": [
    "import mapper\n",
    "import numpy as np\n",
    "import pickle"
   ]
  },
  {
   "cell_type": "code",
   "execution_count": 20,
   "metadata": {},
   "outputs": [
    {
     "data": {
      "text/plain": [
       "((10000, 5096), (3000, 5096), (3000, 5096), (10000,), (3000,))"
      ]
     },
     "execution_count": 20,
     "metadata": {},
     "output_type": "execute_result"
    }
   ],
   "source": [
    "loaded = np.load('data/in10_split_converted.npz', allow_pickle=True)\n",
    "x_train = loaded['x_train']\n",
    "x_test_none = loaded['x_test_none']\n",
    "x_test_gaussian = loaded['x_test_gaussian']\n",
    "y_train = loaded['y_train']\n",
    "y_test = loaded['y_test']\n",
    "\n",
    "mapper_data = pickle.load(open('experiments/{}'.format(experiment_name), 'rb'))\n",
    "latent_space, graphs, covers = mapper_data[0], mapper_data[1], mapper_data[2]\n",
    "k = 5\n",
    "x_train.shape, x_test_none.shape, x_test_gaussian.shape, y_train.shape, y_test.shape"
   ]
  },
  {
   "cell_type": "code",
   "execution_count": 17,
   "metadata": {},
   "outputs": [
    {
     "name": "stderr",
     "output_type": "stream",
     "text": [
      "[binarization]: 100%|██████████| 10000/10000 [00:07<00:00, 1261.71it/s]\n",
      "[wknn]: 100%|██████████| 3000/3000 [01:32<00:00, 32.35it/s]\n",
      "[wknn]: 100%|██████████| 3000/3000 [01:32<00:00, 32.57it/s]\n"
     ]
    },
    {
     "name": "stdout",
     "output_type": "stream",
     "text": [
      "CPU times: user 6min 1s, sys: 7min 43s, total: 13min 45s\n",
      "Wall time: 4min 31s\n"
     ]
    }
   ],
   "source": [
    "%%time\n",
    "\n",
    "m = mapper.Mapper()\n",
    "m.get_representations(x_train, x_test_none, x_test_gaussian, y_train, y_test,\n",
    "                      k, latent_space, graphs, covers, experiment_name + '_k{}'.format(k))"
   ]
  },
  {
   "cell_type": "code",
   "execution_count": 18,
   "metadata": {},
   "outputs": [
    {
     "data": {
      "text/plain": [
       "((10000, 121), (3000, 121), (3000, 121), (10000,), (3000,))"
      ]
     },
     "execution_count": 18,
     "metadata": {},
     "output_type": "execute_result"
    }
   ],
   "source": [
    "loaded = np.load('experiments/{}_k{}.npz'.format(experiment_name, k), allow_pickle=True)\n",
    "x_train = loaded['x_train']\n",
    "x_test_none = loaded['x_test_none']\n",
    "x_test_gaussian = loaded['x_test_gaussian']\n",
    "y_train = loaded['y_train']\n",
    "y_test = loaded['y_test']\n",
    "x_train.shape, x_test_none.shape, x_test_gaussian.shape, y_train.shape, y_test.shape"
   ]
  }
 ],
 "metadata": {
  "kernelspec": {
   "display_name": "venv",
   "language": "python",
   "name": "venv"
  },
  "language_info": {
   "codemirror_mode": {
    "name": "ipython",
    "version": 3
   },
   "file_extension": ".py",
   "mimetype": "text/x-python",
   "name": "python",
   "nbconvert_exporter": "python",
   "pygments_lexer": "ipython3",
   "version": "3.7.5"
  }
 },
 "nbformat": 4,
 "nbformat_minor": 4
}
