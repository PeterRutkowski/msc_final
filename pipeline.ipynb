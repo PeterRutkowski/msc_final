{
 "cells": [
  {
   "cell_type": "markdown",
   "metadata": {},
   "source": [
    "# ImageNet-10 preparation"
   ]
  },
  {
   "cell_type": "code",
   "execution_count": null,
   "metadata": {},
   "outputs": [],
   "source": [
    "import data_split\n",
    "import data_converter\n",
    "import vgg19bn"
   ]
  },
  {
   "cell_type": "code",
   "execution_count": null,
   "metadata": {},
   "outputs": [],
   "source": [
    "ds = data_split.DataSplit()\n",
    "ds.save_split('data')"
   ]
  },
  {
   "cell_type": "code",
   "execution_count": null,
   "metadata": {},
   "outputs": [],
   "source": [
    "%%time\n",
    "dc = data_converter.DataConverter(vgg19bn.VGG19bn())\n",
    "dc.convert_split()"
   ]
  },
  {
   "cell_type": "markdown",
   "metadata": {},
   "source": [
    "# Mapper"
   ]
  },
  {
   "cell_type": "code",
   "execution_count": 9,
   "metadata": {},
   "outputs": [],
   "source": [
    "import numpy as np\n",
    "import mapper\n",
    "import my_umap\n",
    "from sklearn.cluster import DBSCAN"
   ]
  },
  {
   "cell_type": "code",
   "execution_count": 10,
   "metadata": {},
   "outputs": [
    {
     "data": {
      "text/plain": [
       "((10000, 5096), (10000,))"
      ]
     },
     "execution_count": 10,
     "metadata": {},
     "output_type": "execute_result"
    }
   ],
   "source": [
    "loaded = np.load('data/in10_split_converted.npz', allow_pickle=True)\n",
    "x_train = loaded['x_train']\n",
    "y_train = loaded['y_train']\n",
    "x_train.shape, y_train.shape"
   ]
  },
  {
   "cell_type": "code",
   "execution_count": 11,
   "metadata": {},
   "outputs": [],
   "source": [
    "experiment_name = 'comp12_int10_umap12rs69_dbscan31_uniform'"
   ]
  },
  {
   "cell_type": "code",
   "execution_count": 12,
   "metadata": {},
   "outputs": [
    {
     "name": "stderr",
     "output_type": "stream",
     "text": [
      "[Parallel(n_jobs=4)]: Using backend ThreadingBackend with 4 concurrent workers.\n"
     ]
    },
    {
     "name": "stdout",
     "output_type": "stream",
     "text": [
      "[Pipeline] ............ (step 1 of 3) Processing scaler, total=   0.0s\n",
      "[Pipeline] ............ (step 1 of 3) Processing scaler, total=   0.0s\n",
      "[Pipeline] ............ (step 1 of 3) Processing scaler, total=   0.0s\n",
      "[Pipeline] ............ (step 1 of 3) Processing scaler, total=   0.0s\n",
      "[Pipeline] ......... (step 1 of 2) Processing projector, total=   0.4s\n",
      "[Pipeline] .............. (step 2 of 2) Processing proj, total=   0.0s\n",
      "[Pipeline] ....... (step 2 of 3) Processing filter_func, total=   0.4s\n",
      "[Pipeline] ......... (step 1 of 2) Processing projector, total=   0.4s[Pipeline] ......... (step 1 of 2) Processing projector, total=   0.4s\n",
      "[Pipeline] ......... (step 1 of 2) Processing projector, total=   0.5s\n",
      "\n",
      "[Pipeline] .............. (step 2 of 2) Processing proj, total=   0.0s[Pipeline] ............. (step 3 of 3) Processing cover, total=   0.1s\n",
      "[Pipeline] .... (step 1 of 3) Processing pullback_cover, total=   0.6s\n",
      "\n",
      "[Pipeline] ....... (step 2 of 3) Processing filter_func, total=   0.5s\n",
      "[Pipeline] .............. (step 2 of 2) Processing proj, total=   0.0s\n",
      "[Pipeline] ....... (step 2 of 3) Processing filter_func, total=   0.5s\n",
      "[Pipeline] .............. (step 2 of 2) Processing proj, total=   0.0s\n",
      "[Pipeline] ....... (step 2 of 3) Processing filter_func, total=   0.5s\n",
      "[Pipeline] ............. (step 3 of 3) Processing cover, total=   0.0s\n",
      "[Pipeline] .... (step 1 of 3) Processing pullback_cover, total=   0.6s\n",
      "[Pipeline] ............. (step 3 of 3) Processing cover, total=   0.1s\n",
      "[Pipeline] .... (step 1 of 3) Processing pullback_cover, total=   0.7s\n",
      "[Pipeline] ............. (step 3 of 3) Processing cover, total=   0.1s\n",
      "[Pipeline] .... (step 1 of 3) Processing pullback_cover, total=   0.7s\n",
      "[Pipeline] ........ (step 2 of 3) Processing clustering, total=  21.8s\n",
      "[Pipeline] ........ (step 2 of 3) Processing clustering, total=  22.2s\n",
      "[Pipeline] ........ (step 2 of 3) Processing clustering, total=  22.2s\n",
      "[Pipeline] ........ (step 2 of 3) Processing clustering, total=  22.3s\n",
      "[Pipeline] ............. (step 3 of 3) Processing nerve, total= 3.3min\n",
      "[Pipeline] ............ (step 1 of 3) Processing scaler, total=   0.0s\n",
      "[Pipeline] ......... (step 1 of 2) Processing projector, total=   0.4s\n",
      "[Pipeline] .............. (step 2 of 2) Processing proj, total=   0.0s\n",
      "[Pipeline] ....... (step 2 of 3) Processing filter_func, total=   0.4s\n",
      "[Pipeline] ............. (step 3 of 3) Processing cover, total=   0.0s\n",
      "[Pipeline] .... (step 1 of 3) Processing pullback_cover, total=   0.5s\n",
      "[Pipeline] ............. (step 3 of 3) Processing nerve, total= 3.4min\n",
      "[Pipeline] ............ (step 1 of 3) Processing scaler, total=   0.0s\n",
      "[Pipeline] ......... (step 1 of 2) Processing projector, total=   0.4s\n",
      "[Pipeline] .............. (step 2 of 2) Processing proj, total=   0.0s\n",
      "[Pipeline] ....... (step 2 of 3) Processing filter_func, total=   0.4s\n",
      "[Pipeline] ............. (step 3 of 3) Processing cover, total=   0.4s\n",
      "[Pipeline] .... (step 1 of 3) Processing pullback_cover, total=   1.1s\n",
      "[Pipeline] ............. (step 3 of 3) Processing nerve, total= 3.5min\n",
      "[Pipeline] ............ (step 1 of 3) Processing scaler, total=   0.0s\n",
      "[Pipeline] ............. (step 3 of 3) Processing nerve, total= 3.5min\n",
      "[Pipeline] ............ (step 1 of 3) Processing scaler, total=   0.0s\n",
      "[Pipeline] ......... (step 1 of 2) Processing projector, total=   0.6s\n",
      "[Pipeline] .............. (step 2 of 2) Processing proj, total=   0.0s\n",
      "[Pipeline] ....... (step 2 of 3) Processing filter_func, total=   0.6s\n",
      "[Pipeline] ......... (step 1 of 2) Processing projector, total=   0.6s\n",
      "[Pipeline] .............. (step 2 of 2) Processing proj, total=   0.0s\n",
      "[Pipeline] ....... (step 2 of 3) Processing filter_func, total=   0.6s\n",
      "[Pipeline] ............. (step 3 of 3) Processing cover, total=   0.1s\n",
      "[Pipeline] .... (step 1 of 3) Processing pullback_cover, total=   0.9s\n",
      "[Pipeline] ............. (step 3 of 3) Processing cover, total=   0.1s\n",
      "[Pipeline] .... (step 1 of 3) Processing pullback_cover, total=   0.8s\n",
      "[Pipeline] ........ (step 2 of 3) Processing clustering, total=  22.5s\n",
      "[Pipeline] ........ (step 2 of 3) Processing clustering, total=  20.2s\n",
      "[Pipeline] ........ (step 2 of 3) Processing clustering, total=  25.3s\n",
      "[Pipeline] ........ (step 2 of 3) Processing clustering, total=  23.8s\n",
      "[Pipeline] ............. (step 3 of 3) Processing nerve, total= 1.4min\n",
      "[Pipeline] ............ (step 1 of 3) Processing scaler, total=   0.0s\n",
      "[Pipeline] ......... (step 1 of 2) Processing projector, total=   0.4s\n",
      "[Pipeline] .............. (step 2 of 2) Processing proj, total=   0.0s\n",
      "[Pipeline] ....... (step 2 of 3) Processing filter_func, total=   0.4s\n",
      "[Pipeline] ............. (step 3 of 3) Processing cover, total=   0.0s\n",
      "[Pipeline] .... (step 1 of 3) Processing pullback_cover, total=   0.5s\n",
      "[Pipeline] ........ (step 2 of 3) Processing clustering, total=  20.6s\n",
      "[Pipeline] ............. (step 3 of 3) Processing nerve, total= 2.5min\n",
      "[Pipeline] ............ (step 1 of 3) Processing scaler, total=   0.0s\n",
      "[Pipeline] ......... (step 1 of 2) Processing projector, total=   0.4s\n",
      "[Pipeline] .............. (step 2 of 2) Processing proj, total=   0.0s\n",
      "[Pipeline] ....... (step 2 of 3) Processing filter_func, total=   0.4s\n",
      "[Pipeline] ............. (step 3 of 3) Processing cover, total=   0.0s\n",
      "[Pipeline] .... (step 1 of 3) Processing pullback_cover, total=   0.5s\n",
      "[Pipeline] ............. (step 3 of 3) Processing nerve, total= 2.8min\n",
      "[Pipeline] ............ (step 1 of 3) Processing scaler, total=   0.0s\n",
      "[Pipeline] ......... (step 1 of 2) Processing projector, total=   0.6s\n",
      "[Pipeline] .............. (step 2 of 2) Processing proj, total=   0.0s\n",
      "[Pipeline] ....... (step 2 of 3) Processing filter_func, total=   0.6s\n",
      "[Pipeline] ............. (step 3 of 3) Processing cover, total=   0.1s\n",
      "[Pipeline] .... (step 1 of 3) Processing pullback_cover, total=   0.9s\n",
      "[Pipeline] ............. (step 3 of 3) Processing nerve, total= 2.8min\n",
      "[Pipeline] ............ (step 1 of 3) Processing scaler, total=   0.0s\n",
      "[Pipeline] ........ (step 2 of 3) Processing clustering, total=  21.6s\n",
      "[Pipeline] ......... (step 1 of 2) Processing projector, total=   0.5s\n",
      "[Pipeline] .............. (step 2 of 2) Processing proj, total=   0.0s\n",
      "[Pipeline] ....... (step 2 of 3) Processing filter_func, total=   0.5s\n",
      "[Pipeline] ............. (step 3 of 3) Processing cover, total=   0.1s\n",
      "[Pipeline] .... (step 1 of 3) Processing pullback_cover, total=   0.8s\n",
      "[Pipeline] ............. (step 3 of 3) Processing nerve, total= 1.6min\n",
      "[Pipeline] ........ (step 2 of 3) Processing clustering, total=  20.9s\n",
      "[Pipeline] ........ (step 2 of 3) Processing clustering, total=  20.5s\n",
      "[Pipeline] ............. (step 3 of 3) Processing nerve, total=  42.3s\n",
      "[Pipeline] ............. (step 3 of 3) Processing nerve, total=  45.1s\n",
      "[Pipeline] ............. (step 3 of 3) Processing nerve, total=  46.3s\n"
     ]
    },
    {
     "name": "stderr",
     "output_type": "stream",
     "text": [
      "[Parallel(n_jobs=4)]: Done  12 out of  12 | elapsed:  8.2min finished\n"
     ]
    },
    {
     "name": "stdout",
     "output_type": "stream",
     "text": [
      "CPU times: user 11min 57s, sys: 10min 51s, total: 22min 48s\n",
      "Wall time: 9min 4s\n"
     ]
    }
   ],
   "source": [
    "%%time\n",
    "\n",
    "m = mapper.Mapper()\n",
    "m.fit(x_train, projector=my_umap.MyUMAP(n_components=12, random_state=69), \n",
    "      clusterer=DBSCAN(eps=31, min_samples=1), n_components=12, n_intervals=10, \n",
    "      experiment_name=experiment_name)"
   ]
  },
  {
   "cell_type": "markdown",
   "metadata": {},
   "source": [
    "# Representations"
   ]
  },
  {
   "cell_type": "code",
   "execution_count": 13,
   "metadata": {},
   "outputs": [],
   "source": [
    "import mapper\n",
    "import numpy as np\n",
    "import pickle"
   ]
  },
  {
   "cell_type": "code",
   "execution_count": 14,
   "metadata": {},
   "outputs": [
    {
     "data": {
      "text/plain": [
       "((10000, 5096), (3000, 5096), (3000, 5096), (10000,), (3000,))"
      ]
     },
     "execution_count": 14,
     "metadata": {},
     "output_type": "execute_result"
    }
   ],
   "source": [
    "loaded = np.load('data/in10_split_converted.npz', allow_pickle=True)\n",
    "x_train = loaded['x_train']\n",
    "x_test_none = loaded['x_test_none']\n",
    "x_test_gaussian = loaded['x_test_gaussian']\n",
    "y_train = loaded['y_train']\n",
    "y_test = loaded['y_test']\n",
    "\n",
    "mapper_data = pickle.load(open('experiments/{}'.format(experiment_name), 'rb'))\n",
    "latent_space, graphs, covers = mapper_data[0], mapper_data[1], mapper_data[2]\n",
    "k = 5\n",
    "x_train.shape, x_test_none.shape, x_test_gaussian.shape, y_train.shape, y_test.shape"
   ]
  },
  {
   "cell_type": "code",
   "execution_count": 15,
   "metadata": {},
   "outputs": [
    {
     "name": "stderr",
     "output_type": "stream",
     "text": [
      "[binarization]: 100%|██████████| 10000/10000 [07:53<00:00, 21.12it/s]\n",
      "[wknn]: 100%|██████████| 3000/3000 [02:05<00:00, 23.87it/s]\n",
      "[wknn]: 100%|██████████| 3000/3000 [02:07<00:00, 23.56it/s]\n"
     ]
    },
    {
     "name": "stdout",
     "output_type": "stream",
     "text": [
      "CPU times: user 15min 30s, sys: 10min 31s, total: 26min 2s\n",
      "Wall time: 13min 15s\n"
     ]
    }
   ],
   "source": [
    "%%time\n",
    "\n",
    "m = mapper.Mapper()\n",
    "m.get_representations(x_train, x_test_none, x_test_gaussian, y_train, y_test,\n",
    "                      k, latent_space, graphs, covers, experiment_name + '_k{}'.format(k))"
   ]
  },
  {
   "cell_type": "code",
   "execution_count": 16,
   "metadata": {},
   "outputs": [
    {
     "data": {
      "text/plain": [
       "((10000, 10143), (3000, 10143), (3000, 10143), (10000,), (3000,))"
      ]
     },
     "execution_count": 16,
     "metadata": {},
     "output_type": "execute_result"
    }
   ],
   "source": [
    "loaded = np.load('experiments/{}_k{}.npz'.format(experiment_name, k), allow_pickle=True)\n",
    "x_train = loaded['x_train']\n",
    "x_test_none = loaded['x_test_none']\n",
    "x_test_gaussian = loaded['x_test_gaussian']\n",
    "y_train = loaded['y_train']\n",
    "y_test = loaded['y_test']\n",
    "x_train.shape, x_test_none.shape, x_test_gaussian.shape, y_train.shape, y_test.shape"
   ]
  },
  {
   "cell_type": "code",
   "execution_count": null,
   "metadata": {},
   "outputs": [],
   "source": []
  }
 ],
 "metadata": {
  "kernelspec": {
   "display_name": "venv",
   "language": "python",
   "name": "venv"
  },
  "language_info": {
   "codemirror_mode": {
    "name": "ipython",
    "version": 3
   },
   "file_extension": ".py",
   "mimetype": "text/x-python",
   "name": "python",
   "nbconvert_exporter": "python",
   "pygments_lexer": "ipython3",
   "version": "3.7.5"
  }
 },
 "nbformat": 4,
 "nbformat_minor": 4
}
