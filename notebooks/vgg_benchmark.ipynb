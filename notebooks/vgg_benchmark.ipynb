{
  "nbformat": 4,
  "nbformat_minor": 0,
  "metadata": {
    "kernelspec": {
      "display_name": "venv",
      "language": "python",
      "name": "venv"
    },
    "language_info": {
      "codemirror_mode": {
        "name": "ipython",
        "version": 3
      },
      "file_extension": ".py",
      "mimetype": "text/x-python",
      "name": "python",
      "nbconvert_exporter": "python",
      "pygments_lexer": "ipython3",
      "version": "3.7.5"
    },
    "colab": {
      "name": "vgg_benchmark.ipynb",
      "provenance": []
    },
    "accelerator": "GPU"
  },
  "cells": [
    {
      "cell_type": "code",
      "metadata": {
        "colab": {
          "base_uri": "https://localhost:8080/"
        },
        "id": "ymKuJNuCFw55",
        "outputId": "2c075a2c-18a7-49e9-8d64-0afb42de877f"
      },
      "source": [
        "from google.colab import drive\n",
        "drive.mount('/content/drive')"
      ],
      "execution_count": 1,
      "outputs": [
        {
          "output_type": "stream",
          "text": [
            "Drive already mounted at /content/drive; to attempt to forcibly remount, call drive.mount(\"/content/drive\", force_remount=True).\n"
          ],
          "name": "stdout"
        }
      ]
    },
    {
      "cell_type": "code",
      "metadata": {
        "id": "O63fowldFca2"
      },
      "source": [
        "import numpy as np\n",
        "import pandas as pd\n",
        "import torch\n",
        "import torch.optim as optim\n",
        "import torch.nn as nn\n",
        "from torch.utils.data import Dataset, DataLoader"
      ],
      "execution_count": 2,
      "outputs": []
    },
    {
      "cell_type": "code",
      "metadata": {
        "colab": {
          "base_uri": "https://localhost:8080/"
        },
        "id": "vcjb1GhcFca4",
        "outputId": "16c78e62-7b6c-49f3-d450-d4acd84baa85"
      },
      "source": [
        "loaded = np.load('/content/drive/MyDrive/msc_experiments/in10_split_converted.npz', allow_pickle=True)\n",
        "x_train = loaded['x_train']\n",
        "y_train = loaded['y_train']\n",
        "x_test = loaded['x_test_none']\n",
        "y_test = loaded['y_test']\n",
        "x_train.shape, y_train.shape, x_test.shape, y_test.shape"
      ],
      "execution_count": 3,
      "outputs": [
        {
          "output_type": "execute_result",
          "data": {
            "text/plain": [
              "((10000, 5096), (10000,), (3000, 5096), (3000,))"
            ]
          },
          "metadata": {
            "tags": []
          },
          "execution_count": 3
        }
      ]
    },
    {
      "cell_type": "code",
      "metadata": {
        "id": "3VE-4pyaFca5"
      },
      "source": [
        "N, D_in, H1, H2, H3, D_out = x_train.shape[0], x_train.shape[1], 2000, 1000, 500, 10\n",
        "learning_rate = 0.001\n",
        "\n",
        "x_train = torch.Tensor(x_train)\n",
        "y_train = np.squeeze(torch.LongTensor(y_train))"
      ],
      "execution_count": 4,
      "outputs": []
    },
    {
      "cell_type": "code",
      "metadata": {
        "id": "Tb8ugh5CFca5"
      },
      "source": [
        "model = torch.nn.Sequential(\n",
        "    torch.nn.Linear(D_in, H1),\n",
        "    torch.nn.Sigmoid(),\n",
        "    torch.nn.Dropout(p=0.5),\n",
        "    torch.nn.Linear(H1, H2),\n",
        "    torch.nn.Sigmoid(),\n",
        "    torch.nn.Dropout(p=0.5),\n",
        "    torch.nn.Linear(H2, H3),\n",
        "    torch.nn.ReLU(),\n",
        "    torch.nn.Linear(H3, D_out),\n",
        "    torch.nn.LogSoftmax(dim = 1),\n",
        ").cuda()\n",
        "\n",
        "loss_fn = torch.nn.NLLLoss()\n",
        "    \n",
        "losses = []\n",
        "\n",
        "batchs = 256\n",
        "    \n",
        "trainset = torch.utils.data.TensorDataset(x_train, y_train)\n",
        "trainloader = torch.utils.data.DataLoader(trainset, batch_size = batchs,\n",
        "                                          shuffle=True, num_workers=1)\n",
        "\n",
        "optimizer = optim.Adam(model.parameters(), lr=learning_rate)\n",
        "\n",
        "scheduler = torch.optim.lr_scheduler.StepLR(optimizer, step_size=50, gamma=0.5)\n",
        "\n",
        "batchesn = int(N/batchs)\n",
        "epochs = 25"
      ],
      "execution_count": 5,
      "outputs": []
    },
    {
      "cell_type": "code",
      "metadata": {
        "colab": {
          "base_uri": "https://localhost:8080/"
        },
        "id": "nIRSaH5HFca5",
        "outputId": "9c06207c-5cfd-4e69-fd42-58596129c068"
      },
      "source": [
        "for epoch in range(epochs):\n",
        "    running_loss = 0.0\n",
        "    for i, datap in enumerate(trainloader, 0):\n",
        "        #print(i)\n",
        "        # get the inputs\n",
        "        inputs, labels = datap\n",
        "        inputs = inputs.to('cuda', non_blocking=True)\n",
        "        labels = labels.to('cuda', non_blocking=True)\n",
        "\n",
        "        # zero the parameter gradients\n",
        "        optimizer.zero_grad()\n",
        "\n",
        "        # forward + backward + optimize\n",
        "        outputs = model(inputs)\n",
        "\n",
        "        loss = loss_fn(outputs, labels)\n",
        "        loss.backward()\n",
        "        optimizer.step()\n",
        "\n",
        "        # print statistics\n",
        "        running_loss += loss.item()\n",
        "        if i % batchesn == batchesn-1:\n",
        "            print('[epoch {}] loss: {}'.format(epoch + 1, running_loss/batchesn))\n",
        "            running_loss = 0.0\n",
        "    scheduler.step()\n",
        "  \n",
        "torch.save(model, '/content/drive/MyDrive/msc_experiments/vgg_benchamrk.pt')"
      ],
      "execution_count": 6,
      "outputs": [
        {
          "output_type": "stream",
          "text": [
            "[epoch 1] loss: 2.0989592381012745\n",
            "[epoch 2] loss: 1.5027588911545582\n",
            "[epoch 3] loss: 1.2778293964190361\n",
            "[epoch 4] loss: 1.1346410650473375\n",
            "[epoch 5] loss: 1.089057942231496\n",
            "[epoch 6] loss: 1.038713282499558\n",
            "[epoch 7] loss: 1.0151002086125887\n",
            "[epoch 8] loss: 0.9659903232867901\n",
            "[epoch 9] loss: 0.9754716860942352\n",
            "[epoch 10] loss: 0.925364090846135\n",
            "[epoch 11] loss: 0.8997087921851721\n",
            "[epoch 12] loss: 0.9095994356351021\n",
            "[epoch 13] loss: 0.8891634253355173\n",
            "[epoch 14] loss: 0.8748933336673639\n",
            "[epoch 15] loss: 0.8812622611339276\n",
            "[epoch 16] loss: 0.8483840517508678\n",
            "[epoch 17] loss: 0.8517190248538287\n",
            "[epoch 18] loss: 0.838348144139999\n",
            "[epoch 19] loss: 0.8432299723991981\n",
            "[epoch 20] loss: 0.8121888087346003\n",
            "[epoch 21] loss: 0.8223123718530704\n",
            "[epoch 22] loss: 0.8073563377062479\n",
            "[epoch 23] loss: 0.827581274203765\n",
            "[epoch 24] loss: 0.7944798805774786\n",
            "[epoch 25] loss: 0.765562586295299\n"
          ],
          "name": "stdout"
        }
      ]
    },
    {
      "cell_type": "code",
      "metadata": {
        "id": "4zSJuTPgJZm4"
      },
      "source": [
        "model = torch.load('/content/drive/MyDrive/msc_experiments/vgg_benchamrk.pt', \n",
        "                   map_location=torch.device('cpu'))\n",
        "x_test = torch.Tensor(x_test)\n",
        "y_test = np.squeeze(torch.LongTensor(y_test))\n",
        "\n",
        "model.eval()\n",
        "outputs = model(x_test)\n",
        "probals, predicted = torch.max(outputs, 1)"
      ],
      "execution_count": 7,
      "outputs": []
    },
    {
      "cell_type": "code",
      "metadata": {
        "colab": {
          "base_uri": "https://localhost:8080/"
        },
        "id": "Azt2D9vwFca6",
        "outputId": "7c48ae9e-33f2-404c-a222-e5cdea8e1686"
      },
      "source": [
        "c = (predicted == y_test).squeeze()\n",
        "correct = c.sum().item()\n",
        "\n",
        "print('samples correct={} training accuracy={}'.format(correct, np.round(correct/x_test.shape[0], 3)))"
      ],
      "execution_count": 8,
      "outputs": [
        {
          "output_type": "stream",
          "text": [
            "samples correct=2020 training accuracy=0.673\n"
          ],
          "name": "stdout"
        }
      ]
    }
  ]
}