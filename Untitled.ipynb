{
 "cells": [
  {
   "cell_type": "code",
   "execution_count": 1,
   "id": "proud-badge",
   "metadata": {},
   "outputs": [],
   "source": [
    "import vgg19bn\n",
    "from PIL import Image"
   ]
  },
  {
   "cell_type": "code",
   "execution_count": 3,
   "outputs": [],
   "source": [
    "img = Image.open('data/in10/african_elephant/247217_4aaaa75cbc.jpg')"
   ],
   "metadata": {
    "collapsed": false,
    "pycharm": {
     "name": "#%%\n"
    }
   }
  },
  {
   "cell_type": "code",
   "execution_count": 4,
   "outputs": [
    {
     "name": "stdout",
     "output_type": "stream",
     "text": [
      "48 (512, 7, 7)\n",
      "49 (512, 7, 7)\n",
      "50 (512, 7, 7)\n",
      "51 (512, 7, 7)\n",
      "52 (512, 7, 7)\n",
      "53 (512, 7, 7)\n",
      "54 (512, 7, 7)\n",
      "55 (512, 7, 7)\n",
      "56 (512, 7, 7)\n",
      "57 (512, 7, 7)\n",
      "58 (512, 7, 7)\n",
      "59 (512, 7, 7)\n",
      "60 (512, 7, 7)\n"
     ]
    }
   ],
   "source": [
    "for i in range(48, 61):\n",
    "    m = vgg19bn.VGG19bn(layers=[53])\n",
    "    print(i, m.predict(img).shape)"
   ],
   "metadata": {
    "collapsed": false,
    "pycharm": {
     "name": "#%%\n"
    }
   }
  },
  {
   "cell_type": "code",
   "execution_count": 6,
   "outputs": [
    {
     "data": {
      "text/plain": "<vgg19bn.VGG19bn at 0x7f9ba4c14750>"
     },
     "execution_count": 6,
     "metadata": {},
     "output_type": "execute_result"
    }
   ],
   "source": [
    "\n",
    "vgg19bn.VGG19bn(layers=[53])"
   ],
   "metadata": {
    "collapsed": false,
    "pycharm": {
     "name": "#%%\n"
    }
   }
  }
 ],
 "metadata": {
  "environment": {
   "name": "common-cpu.m65",
   "type": "gcloud",
   "uri": "gcr.io/deeplearning-platform-release/base-cpu:m65"
  },
  "kernelspec": {
   "display_name": "Python (myenv)",
   "language": "python",
   "name": "myenv"
  },
  "language_info": {
   "codemirror_mode": {
    "name": "ipython",
    "version": 3
   },
   "file_extension": ".py",
   "mimetype": "text/x-python",
   "name": "python",
   "nbconvert_exporter": "python",
   "pygments_lexer": "ipython3",
   "version": "3.7.9"
  }
 },
 "nbformat": 4,
 "nbformat_minor": 5
}