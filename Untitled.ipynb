{
 "cells": [
  {
   "cell_type": "code",
   "execution_count": 1,
   "metadata": {},
   "outputs": [],
   "source": [
    "import numpy as np\n",
    "import mapper\n",
    "import my_umap\n",
    "from sklearn.cluster import DBSCAN\n",
    "from gtda.mapper import *\n",
    "from sklearn.pipeline import Pipeline\n",
    "from joblib import Parallel, delayed\n",
    "import multiprocessing as mp"
   ]
  },
  {
   "cell_type": "code",
   "execution_count": 2,
   "metadata": {},
   "outputs": [
    {
     "data": {
      "text/plain": [
       "((1000, 50), (1000,))"
      ]
     },
     "execution_count": 2,
     "metadata": {},
     "output_type": "execute_result"
    }
   ],
   "source": [
    "loaded = np.load('data/in10_split_converted.npz', allow_pickle=True)\n",
    "x_train = loaded['x_train'][:1000, :50]\n",
    "y_train = loaded['y_train'][:1000]\n",
    "x_train.shape, y_train.shape"
   ]
  },
  {
   "cell_type": "code",
   "execution_count": 3,
   "metadata": {},
   "outputs": [
    {
     "name": "stderr",
     "output_type": "stream",
     "text": [
      "[Parallel(n_jobs=4)]: Using backend ThreadingBackend with 4 concurrent workers.\n",
      "[Parallel(n_jobs=4)]: Done   2 out of   2 | elapsed:    0.1s finished\n"
     ]
    },
    {
     "name": "stdout",
     "output_type": "stream",
     "text": [
      "[Pipeline] ............ (step 1 of 3) Processing scaler, total=   0.0s\n",
      "[Pipeline] ............ (step 1 of 3) Processing scaler, total=   0.0s\n",
      "[Pipeline] ......... (step 1 of 2) Processing projector, total=   0.0s\n",
      "[Pipeline] .............. (step 2 of 2) Processing proj, total=   0.0s\n",
      "[Pipeline] ....... (step 2 of 3) Processing filter_func, total=   0.0s\n",
      "[Pipeline] ............. (step 3 of 3) Processing cover, total=   0.0s[Pipeline] ......... (step 1 of 2) Processing projector, total=   0.0s\n",
      "[Pipeline] .............. (step 2 of 2) Processing proj, total=   0.0s\n",
      "[Pipeline] ....... (step 2 of 3) Processing filter_func, total=   0.0s\n",
      "\n",
      "[Pipeline] .... (step 1 of 3) Processing pullback_cover, total=   0.0s\n",
      "[Pipeline] ............. (step 3 of 3) Processing cover, total=   0.0s\n",
      "[Pipeline] .... (step 1 of 3) Processing pullback_cover, total=   0.0s\n",
      "[Pipeline] ........ (step 2 of 3) Processing clustering, total=   0.0s\n",
      "[Pipeline] ........ (step 2 of 3) Processing clustering, total=   0.1s[Pipeline] ............. (step 3 of 3) Processing nerve, total=   0.0s\n",
      "\n",
      "[Pipeline] ............. (step 3 of 3) Processing nerve, total=   0.0s\n",
      "<latent_space.LatentSpace object at 0x7ff519aae150>\n",
      "[<igraph.Graph object at 0x7ff518b27350>, <igraph.Graph object at 0x7ff518b27150>]\n",
      "[<generator object Mapper.fit.<locals>.<listcomp>.<genexpr> at 0x7ff519998450>, <generator object Mapper.fit.<locals>.<listcomp>.<genexpr> at 0x7ff5182a09d0>]\n"
     ]
    },
    {
     "ename": "TypeError",
     "evalue": "can't pickle generator objects",
     "output_type": "error",
     "traceback": [
      "\u001b[0;31m---------------------------------------------------------------------------\u001b[0m",
      "\u001b[0;31mTypeError\u001b[0m                                 Traceback (most recent call last)",
      "\u001b[0;32m<timed exec>\u001b[0m in \u001b[0;36m<module>\u001b[0;34m\u001b[0m\n",
      "\u001b[0;32m/projects/mapper_classifier/mapper.py\u001b[0m in \u001b[0;36mfit\u001b[0;34m(x, projector, clusterer, n_components, n_intervals, experiment_name, overlap_frac, kind)\u001b[0m\n\u001b[1;32m     67\u001b[0m \u001b[0;34m\u001b[0m\u001b[0m\n\u001b[1;32m     68\u001b[0m         pickle.dump((latent_projector, graphs, covers), \n\u001b[0;32m---> 69\u001b[0;31m                     open('experiments/{}'.format(experiment_name), 'wb'))\n\u001b[0m\u001b[1;32m     70\u001b[0m \u001b[0;34m\u001b[0m\u001b[0m\n\u001b[1;32m     71\u001b[0m     \u001b[0;34m@\u001b[0m\u001b[0mstaticmethod\u001b[0m\u001b[0;34m\u001b[0m\u001b[0;34m\u001b[0m\u001b[0m\n",
      "\u001b[0;31mTypeError\u001b[0m: can't pickle generator objects"
     ]
    }
   ],
   "source": [
    "%%time\n",
    "\n",
    "clusterer = DBSCAN(eps=60, min_samples=1)\n",
    "projector = my_umap.MyUMAP(n_components=2, random_state=69)\n",
    "\n",
    "m = mapper.Mapper()\n",
    "m.fit(x_train, projector=projector, clusterer=clusterer, n_components=2, \n",
    "      n_intervals=10, experiment_name='balanced_test', kind='balanced')"
   ]
  },
  {
   "cell_type": "code",
   "execution_count": null,
   "metadata": {},
   "outputs": [],
   "source": []
  },
  {
   "cell_type": "code",
   "execution_count": null,
   "metadata": {},
   "outputs": [],
   "source": []
  }
 ],
 "metadata": {
  "kernelspec": {
   "display_name": "venv",
   "language": "python",
   "name": "venv"
  },
  "language_info": {
   "codemirror_mode": {
    "name": "ipython",
    "version": 3
   },
   "file_extension": ".py",
   "mimetype": "text/x-python",
   "name": "python",
   "nbconvert_exporter": "python",
   "pygments_lexer": "ipython3",
   "version": "3.7.5"
  }
 },
 "nbformat": 4,
 "nbformat_minor": 4
}
