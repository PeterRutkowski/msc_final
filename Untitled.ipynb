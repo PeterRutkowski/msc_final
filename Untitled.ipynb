{
 "cells": [
  {
   "cell_type": "code",
   "execution_count": 1,
   "id": "proud-badge",
   "metadata": {},
   "outputs": [],
   "source": [
    "import vgg19bn\n",
    "from PIL import Image"
   ]
  },
  {
   "cell_type": "code",
   "execution_count": 3,
   "outputs": [],
   "source": [
    "img = Image.open('data/in10/african_elephant/247217_4aaaa75cbc.jpg')"
   ],
   "metadata": {
    "collapsed": false,
    "pycharm": {
     "name": "#%%\n"
    }
   }
  },
  {
   "cell_type": "code",
   "execution_count": 4,
   "outputs": [
    {
     "name": "stdout",
     "output_type": "stream",
     "text": [
      "48 (512, 7, 7)\n",
      "49 (512, 7, 7)\n",
      "50 (512, 7, 7)\n",
      "51 (512, 7, 7)\n",
      "52 (512, 7, 7)\n",
      "53 (512, 7, 7)\n",
      "54 (512, 7, 7)\n",
      "55 (512, 7, 7)\n",
      "56 (512, 7, 7)\n",
      "57 (512, 7, 7)\n",
      "58 (512, 7, 7)\n",
      "59 (512, 7, 7)\n",
      "60 (512, 7, 7)\n"
     ]
    }
   ],
   "source": [
    "for i in range(48, 61):\n",
    "    m = vgg19bn.VGG19bn(layers=[53])\n",
    "    print(i, m.predict(img).shape)"
   ],
   "metadata": {
    "collapsed": false,
    "pycharm": {
     "name": "#%%\n"
    }
   }
  },
  {
   "cell_type": "code",
   "execution_count": 6,
   "outputs": [
    {
     "data": {
      "text/plain": "<vgg19bn.VGG19bn at 0x7f9ba4c14750>"
     },
     "execution_count": 6,
     "metadata": {},
     "output_type": "execute_result"
    }
   ],
   "source": [
    "\n",
    "vgg19bn.VGG19bn(layers=[53])"
   ],
   "metadata": {
    "collapsed": false,
    "pycharm": {
     "name": "#%%\n"
    }
   }
  },
  {
   "cell_type": "code",
   "execution_count": 20,
   "outputs": [
    {
     "name": "stdout",
     "output_type": "stream",
     "text": [
      "x_test_gaussian_blur_0.5 (3000, 25088)\n",
      "x_test_gaussian_blur_1.0 (3000, 25088)\n",
      "x_test_gaussian_blur_1.5 (3000, 25088)\n",
      "x_test_gaussian_blur_2.0 (3000, 25088)\n",
      "x_test_gaussian_blur_2.5 (3000, 25088)\n",
      "x_test_gaussian_blur_3.0 (3000, 25088)\n",
      "x_test_gaussian_blur_3.5 (3000, 25088)\n",
      "x_test_gaussian_blur_4.0 (3000, 25088)\n",
      "x_test_gaussian_blur_4.5 (3000, 25088)\n",
      "x_test_gaussian_blur_5.0 (3000, 25088)\n",
      "x_test_gaussian_blur_5.5 (3000, 25088)\n",
      "x_test_none_none (3000, 25088)\n",
      "x_train_none_none (10000, 25088)\n"
     ]
    }
   ],
   "source": [
    "import numpy as np\n",
    "for m in ['x_test_gaussian_blur_0.5',\n",
    "          'x_test_gaussian_blur_1.0',\n",
    "          'x_test_gaussian_blur_1.5',\n",
    "          'x_test_gaussian_blur_2.0',\n",
    "          'x_test_gaussian_blur_2.5',\n",
    "          'x_test_gaussian_blur_3.0',\n",
    "          'x_test_gaussian_blur_3.5',\n",
    "          'x_test_gaussian_blur_4.0',\n",
    "          'x_test_gaussian_blur_4.5',\n",
    "          'x_test_gaussian_blur_5.0',\n",
    "          'x_test_gaussian_blur_5.5',\n",
    "          'x_test_none_none',\n",
    "          'x_train_none_none']:\n",
    "    print(m, np.load('data/{}.npz'.format(m), allow_pickle=True)['data'].shape)\n",
    "    #np.savez_compressed('data/{}'.format(m), data=x.reshape((x.shape[0], 25088)))\n",
    "    #print(m, x.reshape((x.shape[0], 25088)).shape)"
   ],
   "metadata": {
    "collapsed": false,
    "pycharm": {
     "name": "#%%\n"
    }
   }
  },
  {
   "cell_type": "code",
   "execution_count": 17,
   "outputs": [
    {
     "data": {
      "text/plain": "array([0.0000000e+00, 2.8789043e-05, 7.1808696e-05, ..., 2.8540797e+00,\n       2.9208210e+00, 3.0914664e+00], dtype=float32)"
     },
     "execution_count": 17,
     "metadata": {},
     "output_type": "execute_result"
    }
   ],
   "source": [
    "np.unique(x.reshape((3000, 25088))[0])\n"
   ],
   "metadata": {
    "collapsed": false,
    "pycharm": {
     "name": "#%%\n"
    }
   }
  }
 ],
 "metadata": {
  "environment": {
   "name": "common-cpu.m65",
   "type": "gcloud",
   "uri": "gcr.io/deeplearning-platform-release/base-cpu:m65"
  },
  "kernelspec": {
   "display_name": "Python (myenv)",
   "language": "python",
   "name": "myenv"
  },
  "language_info": {
   "codemirror_mode": {
    "name": "ipython",
    "version": 3
   },
   "file_extension": ".py",
   "mimetype": "text/x-python",
   "name": "python",
   "nbconvert_exporter": "python",
   "pygments_lexer": "ipython3",
   "version": "3.7.9"
  }
 },
 "nbformat": 4,
 "nbformat_minor": 5
}