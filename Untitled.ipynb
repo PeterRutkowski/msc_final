{
 "cells": [
  {
   "cell_type": "code",
   "execution_count": 37,
   "id": "proud-badge",
   "metadata": {},
   "outputs": [],
   "source": [
    "import numpy as np"
   ]
  },
  {
   "cell_type": "code",
   "execution_count": 38,
   "id": "disturbed-lightweight",
   "metadata": {},
   "outputs": [],
   "source": [
    "x = np.load('pipeline_data/comp240_dbscan200/rep_x_train.npz', allow_pickle=True)['data']"
   ]
  },
  {
   "cell_type": "code",
   "execution_count": 39,
   "outputs": [
    {
     "data": {
      "text/plain": "(10000, 2400)"
     },
     "execution_count": 39,
     "metadata": {},
     "output_type": "execute_result"
    }
   ],
   "source": [
    "x.shape"
   ],
   "metadata": {
    "collapsed": false,
    "pycharm": {
     "name": "#%%\n"
    }
   }
  },
  {
   "cell_type": "code",
   "execution_count": null,
   "id": "numerous-reservation",
   "metadata": {},
   "outputs": [],
   "source": [
    "np.savez_compressed('pipeline_data/comp120_dbscan60/rep_x_train.npz', data=x)"
   ]
  },
  {
   "cell_type": "code",
   "execution_count": 9,
   "outputs": [
    {
     "data": {
      "text/plain": "(10000, 1000)"
     },
     "execution_count": 9,
     "metadata": {},
     "output_type": "execute_result"
    }
   ],
   "source": [
    "x = x_train = np.load('pipeline_data/x_train_none_none.npz', allow_pickle=True)['data']\n",
    "x.shape"
   ],
   "metadata": {
    "collapsed": false,
    "pycharm": {
     "name": "#%%\n"
    }
   }
  },
  {
   "cell_type": "code",
   "execution_count": 10,
   "outputs": [
    {
     "data": {
      "text/plain": "array([[ 1.9306306 , -1.1486613 ,  1.942291  , ...,  2.0871494 ,\n         0.7188566 ,  3.2534978 ],\n       [ 0.07382222, -0.8130735 ,  1.5884715 , ..., 11.001227  ,\n         7.1173296 , -5.2074065 ],\n       [-0.9315613 , -0.66038895, -1.5535768 , ...,  0.48662207,\n         6.7084775 , -1.0754182 ],\n       ...,\n       [ 2.1321728 ,  0.29470456, -1.845136  , ..., -0.09879813,\n         6.9831657 , -0.8751711 ],\n       [-1.3174796 , -0.34022412, -2.0155272 , ..., 11.548963  ,\n         2.8887236 ,  0.09422614],\n       [-1.7572464 ,  2.3321958 ,  0.7967406 , ...,  0.08538494,\n         4.9369154 ,  2.031369  ]], dtype=float32)"
     },
     "execution_count": 10,
     "metadata": {},
     "output_type": "execute_result"
    }
   ],
   "source": [
    "x"
   ],
   "metadata": {
    "collapsed": false,
    "pycharm": {
     "name": "#%%\n"
    }
   }
  },
  {
   "cell_type": "code",
   "execution_count": null,
   "outputs": [],
   "source": [],
   "metadata": {
    "collapsed": false,
    "pycharm": {
     "name": "#%%\n"
    }
   }
  }
 ],
 "metadata": {
  "environment": {
   "name": "common-cpu.m65",
   "type": "gcloud",
   "uri": "gcr.io/deeplearning-platform-release/base-cpu:m65"
  },
  "kernelspec": {
   "name": "venv",
   "language": "python",
   "display_name": "mapper"
  },
  "language_info": {
   "codemirror_mode": {
    "name": "ipython",
    "version": 3
   },
   "file_extension": ".py",
   "mimetype": "text/x-python",
   "name": "python",
   "nbconvert_exporter": "python",
   "pygments_lexer": "ipython3",
   "version": "3.7.10"
  }
 },
 "nbformat": 4,
 "nbformat_minor": 5
}