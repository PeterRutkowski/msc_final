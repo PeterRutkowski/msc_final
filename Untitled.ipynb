{
 "cells": [
  {
   "cell_type": "code",
   "execution_count": 2,
   "id": "proud-badge",
   "metadata": {},
   "outputs": [],
   "source": [
    "import vgg19bn\n",
    "from PIL import Image"
   ]
  },
  {
   "cell_type": "code",
   "execution_count": 3,
   "outputs": [],
   "source": [
    "img = Image.open('data/african_elephant/247217_4aaaa75cbc.jpg')"
   ],
   "metadata": {
    "collapsed": false,
    "pycharm": {
     "name": "#%%\n"
    }
   }
  },
  {
   "cell_type": "code",
   "execution_count": 5,
   "outputs": [
    {
     "name": "stdout",
     "output_type": "stream",
     "text": [
      "48 (512, 14, 14)\n",
      "49 (512, 14, 14)\n",
      "50 (512, 14, 14)\n",
      "51 (512, 14, 14)\n",
      "52 (512, 7, 7)\n",
      "53 (512, 7, 7)\n",
      "54 (4096,)\n",
      "55 (4096,)\n",
      "56 (4096,)\n",
      "57 (4096,)\n",
      "58 (4096,)\n",
      "59 (4096,)\n",
      "60 (1000,)\n"
     ]
    }
   ],
   "source": [
    "for i in range(48, 61):\n",
    "    m = vgg19bn.VGG19bn(layers=[i])\n",
    "    print(i, m.predict(img).shape)"
   ],
   "metadata": {
    "collapsed": false,
    "pycharm": {
     "name": "#%%\n"
    }
   }
  },
  {
   "cell_type": "code",
   "execution_count": null,
   "outputs": [],
   "source": [],
   "metadata": {
    "collapsed": false,
    "pycharm": {
     "name": "#%%\n"
    }
   }
  }
 ],
 "metadata": {
  "environment": {
   "name": "common-cpu.m65",
   "type": "gcloud",
   "uri": "gcr.io/deeplearning-platform-release/base-cpu:m65"
  },
  "kernelspec": {
   "display_name": "Python (myenv)",
   "language": "python",
   "name": "myenv"
  },
  "language_info": {
   "codemirror_mode": {
    "name": "ipython",
    "version": 3
   },
   "file_extension": ".py",
   "mimetype": "text/x-python",
   "name": "python",
   "nbconvert_exporter": "python",
   "pygments_lexer": "ipython3",
   "version": "3.7.9"
  }
 },
 "nbformat": 4,
 "nbformat_minor": 5
}