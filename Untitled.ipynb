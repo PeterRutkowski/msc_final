{
 "cells": [
  {
   "cell_type": "code",
   "execution_count": 83,
   "id": "b3557955",
   "metadata": {
    "pycharm": {
     "name": "#%%\n"
    }
   },
   "outputs": [],
   "source": [
    "import foolbox as fb\n",
    "import foolbox\n",
    "from torchvision.models import vgg19_bn\n",
    "import torch\n",
    "from torchvision import transforms\n",
    "import eagerpy as ep\n",
    "device = torch.device('cuda') if torch.cuda.is_available() else torch.device('cpu')\n",
    "b = torch.load('data/benchmark_v1.pt')\n",
    "model = torch.nn.Sequential(vgg19_bn(pretrained=True), b).to(device)\n",
    "model.eval()\n",
    "fmodel = fb.PyTorchModel(model, bounds=(0, 1))\n",
    "preprocess = transforms.Compose([transforms.Resize([224, 224]),\n",
    "                                 transforms.ToTensor(),\n",
    "                                 transforms.Normalize(mean=[0.485, 0.456, 0.406], \n",
    "                                                      std=[0.229, 0.224, 0.225])])"
   ]
  },
  {
   "cell_type": "code",
   "execution_count": 84,
   "id": "19e92a71",
   "metadata": {},
   "outputs": [],
   "source": [
    "m = torch.nn.Sequential(*(list(model[0].classifier) + list(model[1])))\n",
    "torch.save(m, 'data/benchmark_f.pt')"
   ]
  },
  {
   "cell_type": "code",
   "execution_count": 85,
   "id": "8eee8c47",
   "metadata": {
    "pycharm": {
     "name": "#%%\n"
    }
   },
   "outputs": [
    {
     "name": "stdout",
     "output_type": "stream",
     "text": [
      "CPU times: user 38.8 ms, sys: 33.4 ms, total: 72.2 ms\n",
      "Wall time: 75.4 ms\n"
     ]
    }
   ],
   "source": [
    "%%time\n",
    "from PIL import Image\n",
    "import numpy as np\n",
    "labels = np.load('data/in10_split.npz')['labels_test'][:5]\n",
    "images = []\n",
    "for path in np.load('data/in10_split.npz')['paths_test'][:5]:\n",
    "    images.append(preprocess(Image.open(path)))\n",
    "images = ep.astensor(torch.stack(images))\n",
    "labels = ep.astensor(torch.tensor(labels))"
   ]
  },
  {
   "cell_type": "code",
   "execution_count": null,
   "id": "d0340d2d",
   "metadata": {
    "pycharm": {
     "name": "#%%\n"
    }
   },
   "outputs": [],
   "source": [
    "%%time\n",
    "attack = fb.attacks.LinfPGD()\n",
    "epsilons = [0.0]\n",
    "ad = attack(fmodel, images[:2], labels[:2], epsilons=epsilons)"
   ]
  },
  {
   "cell_type": "code",
   "execution_count": 98,
   "id": "15a1d97a",
   "metadata": {},
   "outputs": [],
   "source": []
  },
  {
   "cell_type": "code",
   "execution_count": null,
   "id": "395b870a",
   "metadata": {},
   "outputs": [],
   "source": []
  }
 ],
 "metadata": {
  "environment": {
   "name": "common-cpu.m65",
   "type": "gcloud",
   "uri": "gcr.io/deeplearning-platform-release/base-cpu:m65"
  },
  "kernelspec": {
   "display_name": "Python (myenv)",
   "language": "python",
   "name": "myenv"
  },
  "language_info": {
   "codemirror_mode": {
    "name": "ipython",
    "version": 3
   },
   "file_extension": ".py",
   "mimetype": "text/x-python",
   "name": "python",
   "nbconvert_exporter": "python",
   "pygments_lexer": "ipython3",
   "version": "3.7.9"
  }
 },
 "nbformat": 4,
 "nbformat_minor": 5
}