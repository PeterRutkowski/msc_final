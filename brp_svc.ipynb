{
 "cells": [
  {
   "cell_type": "code",
   "execution_count": 75,
   "metadata": {},
   "outputs": [],
   "source": [
    "import numpy as np\n",
    "from sklearn.svm import SVC\n",
    "import multiprocessing as mp\n",
    "import time"
   ]
  },
  {
   "cell_type": "code",
   "execution_count": 73,
   "metadata": {},
   "outputs": [],
   "source": [
    "def component_model(data):\n",
    "    x_train, y_train, x_test = data[0], data[1], data[2]\n",
    "    clf = SVC(kernel='poly', degree=3)\n",
    "    clf.fit(x_train, y_train)\n",
    "    \n",
    "    return clf.predict(x_test)"
   ]
  },
  {
   "cell_type": "code",
   "execution_count": 74,
   "metadata": {},
   "outputs": [],
   "source": [
    "exp = 'comp120_dbscan60'"
   ]
  },
  {
   "cell_type": "code",
   "execution_count": 77,
   "metadata": {},
   "outputs": [],
   "source": [
    "start_time = time.time()\n",
    "x_train = np.load('data2/in10_split_converted.npz', allow_pickle=True)['x_train']\n",
    "x_test = np.load('data2/in10_split_converted.npz', allow_pickle=True)['x_test_none']\n",
    "y_train = np.load('data2/{}.npz'.format(exp), allow_pickle=True)['x_train']\n",
    "\n",
    "pool = mp.Pool(mp.cpu_count())\n",
    "data = pool.map(component_model, [[x_train, y_train[:, i], x_test] for i in range(y_train.shape[1])])\n",
    "\n",
    "f = open('data2/time.txt', 'w')\n",
    "f.write('--- %s seconds ---' % (time.time() - start_time))\n",
    "f.close()"
   ]
  },
  {
   "cell_type": "code",
   "execution_count": 82,
   "metadata": {},
   "outputs": [],
   "source": [
    "x_tr = np.load('data2/{}.npz'.format(exp), allow_pickle=True)['x_train']\n",
    "y_tr = np.load('data2/{}.npz'.format(exp), allow_pickle=True)['y_train']\n",
    "y_te = np.load('data2/{}.npz'.format(exp), allow_pickle=True)['y_test']\n",
    "np.savez('data2/rep_{}'.format(exp), \n",
    "         x_train=y_train, \n",
    "         x_test=np.asarray(data).T, \n",
    "         y_train=y_tr, \n",
    "         y_test=y_te)"
   ]
  },
  {
   "cell_type": "code",
   "execution_count": 83,
   "metadata": {},
   "outputs": [
    {
     "data": {
      "text/plain": [
       "((10000, 1202), (3000, 4), (10000,), (3000,))"
      ]
     },
     "execution_count": 83,
     "metadata": {},
     "output_type": "execute_result"
    }
   ],
   "source": [
    "l = np.load('data2/rep_comp120_dbscan60.npz', allow_pickle=True)\n",
    "l['x_train'].shape, l['x_test'].shape, l['y_train'].shape, l['y_test'].shape"
   ]
  },
  {
   "cell_type": "code",
   "execution_count": 85,
   "metadata": {},
   "outputs": [
    {
     "data": {
      "text/plain": [
       "1202"
      ]
     },
     "execution_count": 85,
     "metadata": {},
     "output_type": "execute_result"
    }
   ],
   "source": [
    "y_train.shape[1]"
   ]
  },
  {
   "cell_type": "code",
   "execution_count": 64,
   "metadata": {},
   "outputs": [
    {
     "data": {
      "text/plain": [
       "array([[1, 0, 0, ..., 0, 1, 0],\n",
       "       [0, 0, 1, ..., 0, 1, 0],\n",
       "       [1, 0, 0, ..., 0, 1, 0],\n",
       "       ...,\n",
       "       [0, 0, 1, ..., 0, 0, 0],\n",
       "       [1, 0, 1, ..., 0, 1, 0],\n",
       "       [1, 0, 0, ..., 0, 0, 0]])"
      ]
     },
     "execution_count": 64,
     "metadata": {},
     "output_type": "execute_result"
    }
   ],
   "source": [
    "n"
   ]
  },
  {
   "cell_type": "code",
   "execution_count": null,
   "metadata": {},
   "outputs": [],
   "source": []
  }
 ],
 "metadata": {
  "kernelspec": {
   "display_name": "venv",
   "language": "python",
   "name": "venv"
  },
  "language_info": {
   "codemirror_mode": {
    "name": "ipython",
    "version": 3
   },
   "file_extension": ".py",
   "mimetype": "text/x-python",
   "name": "python",
   "nbconvert_exporter": "python",
   "pygments_lexer": "ipython3",
   "version": "3.7.5"
  }
 },
 "nbformat": 4,
 "nbformat_minor": 4
}
