{
  "nbformat": 4,
  "nbformat_minor": 0,
  "metadata": {
    "kernelspec": {
      "name": "python3",
      "display_name": "Python 3"
    },
    "colab": {
      "name": "nn.ipynb",
      "provenance": []
    },
    "accelerator": "GPU"
  },
  "cells": [
    {
      "cell_type": "code",
      "metadata": {
        "id": "K8W4dsXhiCbw"
      },
      "source": [
        "import numpy as np\n",
        "import pandas as pd\n",
        "import torch\n",
        "import torch.optim as optim\n",
        "import torch.nn as nn\n",
        "from torch.utils.data import Dataset, DataLoader"
      ],
      "execution_count": 1,
      "outputs": []
    },
    {
      "cell_type": "code",
      "metadata": {
        "colab": {
          "base_uri": "https://localhost:8080/"
        },
        "id": "Pti__YYCkGwk",
        "outputId": "d5938047-5d79-49bf-8ff8-c867fea58678"
      },
      "source": [
        "from google.colab import drive\n",
        "drive.mount('/content/drive')"
      ],
      "execution_count": 2,
      "outputs": [
        {
          "output_type": "stream",
          "text": [
            "Drive already mounted at /content/drive; to attempt to forcibly remount, call drive.mount(\"/content/drive\", force_remount=True).\n"
          ],
          "name": "stdout"
        }
      ]
    },
    {
      "cell_type": "code",
      "metadata": {
        "id": "k_P5b4KJn3Rk"
      },
      "source": [
        "def eval(experiment):\n",
        "  def evaluate_model(experiment, x, y):\n",
        "    model = torch.load('/content/drive/MyDrive/msc_experiments/{}_model.pt'.format(experiment), \n",
        "                      map_location=torch.device('cpu'))\n",
        "    x = np.load('/content/drive/MyDrive/msc_experiments/{}.npz'.format(experiment), allow_pickle=True)[x]\n",
        "    n_images = x.shape[0]\n",
        "    y = np.load('/content/drive/MyDrive/msc_experiments/{}.npz'.format(experiment), allow_pickle=True)[y]\n",
        "    x = torch.Tensor(x)\n",
        "    y = np.squeeze(torch.LongTensor(y))\n",
        "\n",
        "    model.eval()\n",
        "    outputs = model(x)\n",
        "    probals, predicted = torch.max(outputs, 1)\n",
        "\n",
        "    c = (predicted == y).squeeze()\n",
        "    correct = c.sum().item()\n",
        "\n",
        "    print('samples correct={} training accuracy={}'.format(correct, np.round(correct/n_images, 3)))\n",
        "  print('TRAIN')\n",
        "  evaluate_model(experiment, 'x_train', 'y_train')\n",
        "  print('TEST NONE')\n",
        "  evaluate_model(experiment, 'x_test_none', 'y_test')\n",
        "  print('TEST GAUSSIAN')\n",
        "  evaluate_model(experiment, 'x_test_gaussian', 'y_test')"
      ],
      "execution_count": 3,
      "outputs": []
    },
    {
      "cell_type": "markdown",
      "metadata": {
        "id": "P6WLNDfVr8FO"
      },
      "source": [
        "# training"
      ]
    },
    {
      "cell_type": "code",
      "metadata": {
        "id": "Cjv-Yodikp-_"
      },
      "source": [
        "experiment = 'comp12_int10_umap12rs69_dbscan31_uniform_k5'"
      ],
      "execution_count": 24,
      "outputs": []
    },
    {
      "cell_type": "code",
      "metadata": {
        "colab": {
          "base_uri": "https://localhost:8080/"
        },
        "id": "lbUV9E7CiCbz",
        "outputId": "fe08cf97-449f-438c-a892-2775b1fd6f0a"
      },
      "source": [
        "path = '/content/drive/MyDrive/msc_experiments/{}.npz'.format(experiment)\n",
        "loaded = np.load(path, allow_pickle=True)\n",
        "x_train = loaded['x_train']\n",
        "y_train = loaded['y_train']\n",
        "x_train.shape, y_train.shape"
      ],
      "execution_count": 25,
      "outputs": [
        {
          "output_type": "execute_result",
          "data": {
            "text/plain": [
              "((10000, 10143), (10000,))"
            ]
          },
          "metadata": {
            "tags": []
          },
          "execution_count": 25
        }
      ]
    },
    {
      "cell_type": "code",
      "metadata": {
        "id": "t5w4PS2GiCbz"
      },
      "source": [
        "N, D_in, H1, H2, H3, D_out = x_train.shape[0], x_train.shape[1], 2000, 1000, 500, 10\n",
        "learning_rate = 0.001\n",
        "\n",
        "x = torch.Tensor(x_train)\n",
        "y = np.squeeze(torch.LongTensor(y_train))"
      ],
      "execution_count": 26,
      "outputs": []
    },
    {
      "cell_type": "code",
      "metadata": {
        "id": "qugY9B6AiCb0"
      },
      "source": [
        "model = torch.nn.Sequential(\n",
        "    torch.nn.Linear(D_in, H1),\n",
        "    torch.nn.Sigmoid(),\n",
        "    torch.nn.Dropout(p=0.5),\n",
        "    torch.nn.Linear(H1, H2),\n",
        "    torch.nn.Sigmoid(),\n",
        "    torch.nn.Dropout(p=0.5),\n",
        "    torch.nn.Linear(H2, H3),\n",
        "    torch.nn.ReLU(),\n",
        "    torch.nn.Linear(H3, D_out),\n",
        "    torch.nn.LogSoftmax(dim = 1),\n",
        ").cuda()\n",
        "\n",
        "loss_fn = torch.nn.NLLLoss()\n",
        "    \n",
        "losses = []\n",
        "\n",
        "batchs = 256\n",
        "    \n",
        "trainset = torch.utils.data.TensorDataset(x, y)\n",
        "trainloader = torch.utils.data.DataLoader(trainset, batch_size = batchs,\n",
        "                                          shuffle=True, num_workers=1)\n",
        "\n",
        "#optimizer = optim.SGD(model.parameters(), lr=learning_rate, momentum=0.9)\n",
        "optimizer = optim.Adam(model.parameters(), lr=learning_rate)\n",
        "\n",
        "scheduler = torch.optim.lr_scheduler.StepLR(optimizer, step_size=50, gamma=0.5)\n",
        "\n",
        "batchesn = int(N/batchs)\n",
        "epochs = 25"
      ],
      "execution_count": 40,
      "outputs": []
    },
    {
      "cell_type": "code",
      "metadata": {
        "colab": {
          "base_uri": "https://localhost:8080/"
        },
        "id": "F6Be4W3QiCb0",
        "outputId": "24e60a52-6ee9-410a-d944-cc1e6e3d4f4f"
      },
      "source": [
        "for epoch in range(epochs):\n",
        "    running_loss = 0.0\n",
        "    for i, datap in enumerate(trainloader, 0):\n",
        "        #print(i)\n",
        "        # get the inputs\n",
        "        inputs, labels = datap\n",
        "        inputs = inputs.to('cuda', non_blocking=True)\n",
        "        labels = labels.to('cuda', non_blocking=True)\n",
        "\n",
        "        # zero the parameter gradients\n",
        "        optimizer.zero_grad()\n",
        "\n",
        "        # forward + backward + optimize\n",
        "        outputs = model(inputs)\n",
        "\n",
        "        loss = loss_fn(outputs, labels)\n",
        "        loss.backward()\n",
        "        optimizer.step()\n",
        "\n",
        "        # print statistics\n",
        "        running_loss += loss.item()\n",
        "        if i % batchesn == batchesn-1:\n",
        "            print('[epoch {}] loss: {}'.format(epoch + 1, running_loss/batchesn))\n",
        "            running_loss = 0.0\n",
        "    scheduler.step()"
      ],
      "execution_count": 41,
      "outputs": [
        {
          "output_type": "stream",
          "text": [
            "[epoch 1] loss: 2.317834530121241\n",
            "[epoch 2] loss: 2.2985168481484437\n",
            "[epoch 3] loss: 2.1455686398041554\n",
            "[epoch 4] loss: 2.027425487836202\n",
            "[epoch 5] loss: 1.934690603843102\n",
            "[epoch 6] loss: 1.8226729509158013\n",
            "[epoch 7] loss: 1.7686904271443684\n",
            "[epoch 8] loss: 1.7523250518701015\n",
            "[epoch 9] loss: 1.7282874431365576\n",
            "[epoch 10] loss: 1.7070422447644746\n",
            "[epoch 11] loss: 1.6999369278932228\n",
            "[epoch 12] loss: 1.6846894331467457\n",
            "[epoch 13] loss: 1.6758707547799134\n",
            "[epoch 14] loss: 1.678871023349273\n",
            "[epoch 15] loss: 1.663789348724561\n",
            "[epoch 16] loss: 1.6498105495403974\n",
            "[epoch 17] loss: 1.6613053725315974\n",
            "[epoch 18] loss: 1.6488660726791773\n",
            "[epoch 19] loss: 1.6409875582426021\n",
            "[epoch 20] loss: 1.6314435188586895\n",
            "[epoch 21] loss: 1.6321374147366254\n",
            "[epoch 22] loss: 1.6295745709003546\n",
            "[epoch 23] loss: 1.6220135963880098\n",
            "[epoch 24] loss: 1.6288754145304363\n",
            "[epoch 25] loss: 1.6148083362823877\n"
          ],
          "name": "stdout"
        }
      ]
    },
    {
      "cell_type": "code",
      "metadata": {
        "id": "sZKT9KH9iCb1"
      },
      "source": [
        "np.save('/content/drive/MyDrive/msc_experiments/{}_losses.npz'.format(experiment), np.array(losses))\n",
        "model_filen = experiment + '.pt' \n",
        "\n",
        "torch.save(model, '/content/drive/MyDrive/msc_experiments/{}_model.pt'.format(experiment))"
      ],
      "execution_count": 42,
      "outputs": []
    },
    {
      "cell_type": "markdown",
      "metadata": {
        "id": "SbmIud-msDr-"
      },
      "source": [
        "# testing"
      ]
    },
    {
      "cell_type": "code",
      "metadata": {
        "colab": {
          "base_uri": "https://localhost:8080/"
        },
        "id": "cJmK5AIWlPin",
        "outputId": "00b55ff1-c55f-4a9e-a014-73e03f36e8e1"
      },
      "source": [
        "eval(experiment)"
      ],
      "execution_count": 43,
      "outputs": [
        {
          "output_type": "stream",
          "text": [
            "TRAIN\n",
            "samples correct=4436 training accuracy=0.444\n",
            "TEST NONE\n",
            "samples correct=1090 training accuracy=0.363\n",
            "TEST GAUSSIAN\n",
            "samples correct=1084 training accuracy=0.361\n"
          ],
          "name": "stdout"
        }
      ]
    },
    {
      "cell_type": "code",
      "metadata": {
        "id": "wXi__j136gfC"
      },
      "source": [
        ""
      ],
      "execution_count": null,
      "outputs": []
    }
  ]
}