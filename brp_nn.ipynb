{
 "cells": [
  {
   "cell_type": "code",
   "execution_count": 11,
   "metadata": {},
   "outputs": [],
   "source": [
    "import numpy as np\n",
    "import pandas as pd\n",
    "import torch\n",
    "import torch.optim as optim\n",
    "import torch.nn as nn\n",
    "from torch.utils.data import Dataset, DataLoader\n",
    "from tqdm import tqdm"
   ]
  },
  {
   "cell_type": "code",
   "execution_count": 12,
   "metadata": {},
   "outputs": [],
   "source": [
    "def component_model(x_train, y_train, x_test, exp, i):\n",
    "    N, D_in, H1, H2, D_out = x_train.shape[0], x_train.shape[1], 2000, 1500, 2\n",
    "    learning_rate = 0.001\n",
    "\n",
    "    x = torch.Tensor(x_train)\n",
    "    y = np.squeeze(torch.LongTensor(y_train))\n",
    "\n",
    "    model = torch.nn.Sequential(\n",
    "    torch.nn.Linear(D_in, H1),\n",
    "    torch.nn.Sigmoid(),\n",
    "    torch.nn.Dropout(p=0.5),\n",
    "    torch.nn.Linear(H1, H2),\n",
    "    torch.nn.ReLU(),\n",
    "    torch.nn.Linear(H2, D_out),\n",
    "    torch.nn.LogSoftmax(dim = 1),\n",
    "    )\n",
    "\n",
    "    loss_fn = torch.nn.NLLLoss()\n",
    "\n",
    "    batchs = 256\n",
    "\n",
    "    trainset = torch.utils.data.TensorDataset(x, y)\n",
    "    trainloader = torch.utils.data.DataLoader(trainset, batch_size = batchs,\n",
    "                                            shuffle=True, num_workers=1)\n",
    "\n",
    "    optimizer = optim.Adam(model.parameters(), lr=learning_rate)\n",
    "    scheduler = torch.optim.lr_scheduler.StepLR(optimizer, step_size=50, gamma=0.5)\n",
    "\n",
    "    batchesn = int(N/batchs)\n",
    "    epochs = 50\n",
    "\n",
    "    for epoch in range(epochs):\n",
    "        print(epoch)\n",
    "        running_loss = 0.0\n",
    "        for i, datap in enumerate(trainloader, 0):\n",
    "            # get the inputs\n",
    "            inputs, labels = datap\n",
    "            inputs = inputs.to('cpu', non_blocking=True)\n",
    "            labels = labels.to('cpu', non_blocking=True)\n",
    "\n",
    "            # zero the parameter gradients\n",
    "            optimizer.zero_grad()\n",
    "            # forward + backward + optimize\n",
    "            outputs = model(inputs)\n",
    "\n",
    "            loss = loss_fn(outputs, labels)\n",
    "            loss.backward()\n",
    "            optimizer.step()\n",
    "\n",
    "    scheduler.step()\n",
    "\n",
    "    n_images = x_test.shape[0]\n",
    "    x_test = torch.Tensor(x_test)\n",
    "    \n",
    "    torch.save(model, '/content/drive/MyDrive/msc_experiments/{}_model.pt'.format(experiment))\n",
    "\n",
    "    model.eval()\n",
    "\n",
    "    return np.exp(model(x_test).detach().numpy())[:, 1]"
   ]
  },
  {
   "cell_type": "code",
   "execution_count": 13,
   "metadata": {},
   "outputs": [],
   "source": [
    "def BRP(exp):\n",
    "    l = np.load('data/in10_split_converted.npz',\n",
    "              allow_pickle=True)\n",
    "    x_train, x_test = l['x_train'], l['x_test_none']\n",
    "\n",
    "    l = np.load('experiments/{}.npz'.format(exp),\n",
    "              allow_pickle=True)\n",
    "    y_train = l['x_train']\n",
    "\n",
    "    y_pred = []\n",
    "    for i in tqdm(range(y_train.shape[1])):\n",
    "        y_pred.append(component_model(x_train, y_train[:, i], x_test, exp, i))\n",
    "        np.savez('experiments/BRP_{}_cpu'.format(exp), y_pred=np.asarray(y_pred).T)"
   ]
  },
  {
   "cell_type": "code",
   "execution_count": 15,
   "metadata": {},
   "outputs": [],
   "source": [
    "# BRP('comp120_pca_dbscan60')\n",
    "# 21s per epoch"
   ]
  },
  {
   "cell_type": "code",
   "execution_count": null,
   "metadata": {},
   "outputs": [],
   "source": []
  }
 ],
 "metadata": {
  "kernelspec": {
   "display_name": "venv",
   "language": "python",
   "name": "venv"
  },
  "language_info": {
   "codemirror_mode": {
    "name": "ipython",
    "version": 3
   },
   "file_extension": ".py",
   "mimetype": "text/x-python",
   "name": "python",
   "nbconvert_exporter": "python",
   "pygments_lexer": "ipython3",
   "version": "3.7.5"
  }
 },
 "nbformat": 4,
 "nbformat_minor": 4
}
